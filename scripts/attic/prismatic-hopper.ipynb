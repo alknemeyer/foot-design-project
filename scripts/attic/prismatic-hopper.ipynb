{
 "cells": [
  {
   "cell_type": "markdown",
   "metadata": {},
   "source": [
    "# Prismatic hopper"
   ]
  },
  {
   "cell_type": "code",
   "execution_count": null,
   "metadata": {},
   "outputs": [],
   "source": [
    "import sympy as sp, numpy as np\n",
    "from sympy import Matrix as Mat\n",
    "vec = lambda *args: sp.Matrix(args)\n",
    "\n",
    "%load_ext autoreload\n",
    "%autoreload 2\n",
    "# import ckc_lib\n",
    "import physical_education as pe"
   ]
  },
  {
   "cell_type": "code",
   "execution_count": null,
   "metadata": {},
   "outputs": [],
   "source": [
    "constants = mb, ml, rb, rl, g = sp.symbols('m_b m_l r_b r_l g', real=True)\n",
    "constants_mapping = dict(zip(constants, (4.1, 0.090 * 4, 0.15, (0.1375+0.250)*2/2, 9.81)))\n",
    "\n",
    "Ib, Il = mb*(rb**2 + rb**2)/12, (ml*rl**2)/12\n",
    "Ib = 0\n",
    "\n",
    "# two input torques\n",
    "Fr, Fth = sp.Matrix(sp.symbols('F_r F_th', real=True))\n",
    "u = vec(Fr, Fth)\n",
    "\n",
    "# two ground reaction forces\n",
    "Lx, Ly = sp.symbols('L_x L_y', real=True)"
   ]
  },
  {
   "cell_type": "code",
   "execution_count": null,
   "metadata": {},
   "outputs": [],
   "source": [
    "# the states of the leg\n",
    "def sym_and_derivs(symbol: str):\n",
    "    return sp.symbols(r'%s \\dot{%s} \\ddot{%s}' % (symbol, symbol, symbol))\n",
    "\n",
    "x, dx, ddx = sym_and_derivs('x')\n",
    "y, dy, ddy = sym_and_derivs('y')\n",
    "r, dr, ddr = sym_and_derivs('r')\n",
    "\n",
    "thb, dthb, ddthb = sym_and_derivs('\\\\theta_b')\n",
    "thl, dthl, ddthl = sym_and_derivs('\\\\theta_l')\n",
    "\n",
    "q   = Mat([  x,   y,   r,   thb,   thl])\n",
    "dq  = Mat([ dx,  dy,  dr,  dthb,  dthl])\n",
    "ddq = Mat([ddx, ddy, ddr, ddthb, ddthl])\n",
    "# B   = Mat([  0,   0,   Fth,  -Fth, -τr])\n",
    "\n",
    "# q, dq, ddq, B"
   ]
  },
  {
   "cell_type": "code",
   "execution_count": null,
   "metadata": {},
   "outputs": [],
   "source": [
    "# the base\n",
    "Pb_I = Mat([x, y])\n",
    "Rb_I = pe.utils.rot(thb).T\n",
    "\n",
    "# connection between base and top links\n",
    "conn_b = Pb_I\n",
    "\n",
    "# the top links (shoulder to knee)\n",
    "leg_len = rl + r\n",
    "Pl_l = Mat([0, - leg_len/2])\n",
    "Rl_I = pe.utils.rot(thl).T\n",
    "Pl_I = sp.simplify(conn_b + Rl_I @ Pl_l)\n",
    "\n",
    "foot = sp.simplify(conn_b + Rl_I @ Mat([0, -leg_len]))\n",
    "\n",
    "# Pb_I, Pl_I, foot"
   ]
  },
  {
   "cell_type": "code",
   "execution_count": null,
   "metadata": {},
   "outputs": [],
   "source": [
    "# calculate the system's kinetic and potential energy\n",
    "Ps = [Pb_I, Pl_I]\n",
    "Rs = [Rb_I, Rl_I]\n",
    "dths = dq[3:]\n",
    "Is = [Ib, Il]\n",
    "ms = [mb, ml]\n",
    "\n",
    "dxy = [P.jacobian(q) @ dq for P in Ps]\n",
    "\n",
    "Ek = sp.simplify(sum(\n",
    "    0.5*m*(dx**2 + dy**2) + 0.5*I*dth**2\n",
    "        for m, I, (dx, dy), dth in zip(ms, Is, dxy, dths)\n",
    "))\n",
    "\n",
    "Ep = sp.simplify(sum(\n",
    "    m*g*y for m, (_, y) in zip(ms, Ps)\n",
    "))\n",
    "\n",
    "# Ek, Ep"
   ]
  },
  {
   "cell_type": "code",
   "execution_count": null,
   "metadata": {},
   "outputs": [],
   "source": [
    "# manipulator equation parts: mass matrix, coriolis, gravity/NC force\n",
    "M, C, G = pe.utils.manipulator_equation(Mat([Ek]), Mat([Ep]), q, dq)\n",
    "\n",
    "M = sp.simplify(M); G = sp.simplify(G)"
   ]
  },
  {
   "cell_type": "code",
   "execution_count": null,
   "metadata": {},
   "outputs": [],
   "source": [
    "J_L = foot.jacobian(q)\n",
    "L = Mat([Lx, Ly])"
   ]
  },
  {
   "cell_type": "code",
   "execution_count": null,
   "metadata": {},
   "outputs": [],
   "source": [
    "def getb():\n",
    "    fr = Rl_I @ vec(0, -Fr)\n",
    "    rr = Pl_I\n",
    "    Qr = (fr.T @ rr.jacobian(q)).T\n",
    "    \n",
    "    fth = Mat([Fth])\n",
    "    rth = Mat([thb-thl])\n",
    "    Qth = (fth.T @ rth.jacobian(q)).T\n",
    "    \n",
    "    return Qr + Qth\n",
    "\n",
    "B = getb().jacobian(u)"
   ]
  },
  {
   "cell_type": "code",
   "execution_count": null,
   "metadata": {},
   "outputs": [],
   "source": [
    "EOM = sp.simplify((\n",
    "    M @ ddq + C + G - B @ u - J_L.T @ L\n",
    ").subs(constants_mapping))"
   ]
  },
  {
   "cell_type": "code",
   "execution_count": null,
   "metadata": {},
   "outputs": [],
   "source": []
  }
 ],
 "metadata": {
  "kernelspec": {
   "display_name": "Python 3",
   "language": "python",
   "name": "python3"
  },
  "language_info": {
   "codemirror_mode": {
    "name": "ipython",
    "version": 3
   },
   "file_extension": ".py",
   "mimetype": "text/x-python",
   "name": "python",
   "nbconvert_exporter": "python",
   "pygments_lexer": "ipython3",
   "version": "3.8.5"
  }
 },
 "nbformat": 4,
 "nbformat_minor": 4
}