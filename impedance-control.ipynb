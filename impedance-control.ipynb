{
 "cells": [
  {
   "cell_type": "markdown",
   "metadata": {},
   "source": [
    "# Closed kinematic chain hopper, using minimal coordinates"
   ]
  },
  {
   "cell_type": "code",
   "execution_count": null,
   "metadata": {},
   "outputs": [],
   "source": [
    "import sympy as sp\n",
    "import numpy as np\n",
    "import physical_education as pe\n",
    "\n",
    "%\n",
    "\n",
    "vec = lambda *args: sp.Matrix(args)\n",
    "simplify = lambda m: pe.utils.parsimp(m, nprocs=2, f=sp.simplify)\n",
    "trigsimp = lambda m: pe.utils.parsimp(m, nprocs=2, f=sp.trigsimp)"
   ]
  },
  {
   "cell_type": "markdown",
   "metadata": {},
   "source": [
    "## Define variables and constants"
   ]
  },
  {
   "cell_type": "code",
   "execution_count": null,
   "metadata": {},
   "outputs": [],
   "source": [
    "constants = mb, mu, ml, rb, ru, rl, g = sp.symbols('m_b m_u m_l r_b r_u r_l g', real=True)\n",
    "constants_mapping = dict(zip(constants, (4.1, 0.090, 0.090, 0.15, 0.1375, 0.250, 9.81)))\n",
    "\n",
    "full_simp = lambda x: simplify(x.subs(constants_mapping).evalf())\n",
    "\n",
    "Ib, Iu, Il = mb*(rb**2 + rb**2)/12, (mu*ru**2)/12, (ml*rl**2)/12\n",
    "# Ib = 0\n",
    "\n",
    "# two input torques\n",
    "τl, τr = sp.Matrix(sp.symbols('\\\\tau_:2', real=True))\n",
    "\n",
    "u = vec(τl, τr)\n",
    "\n",
    "# two ground reaction forces\n",
    "Lx, Ly = sp.symbols('L_x L_y', real=True)"
   ]
  },
  {
   "cell_type": "code",
   "execution_count": null,
   "metadata": {},
   "outputs": [],
   "source": [
    "# the states of the leg\n",
    "def sym_and_derivs(symbol: str):\n",
    "    return sp.symbols(r'%s \\dot{%s} \\ddot{%s}' % (symbol, symbol, symbol))\n",
    "\n",
    "full_system = False\n",
    "\n",
    "if full_system:\n",
    "    xb, dxb, ddxb = sym_and_derivs('x')\n",
    "    yb, dyb, ddyb = sym_and_derivs('y')\n",
    "else:\n",
    "    xb = dxb = ddxb = yb = dyb = ddyb = 0\n",
    "\n",
    "thul, dthul, ddthul = sym_and_derivs('\\\\theta_{ul}')\n",
    "thur, dthur, ddthur = sym_and_derivs('\\\\theta_{ur}')\n",
    "\n",
    "if full_system:\n",
    "    q   = vec(  xb,   yb,   thul,   thur)\n",
    "    dq  = vec( dxb,  dyb,  dthul,  dthur)\n",
    "    ddq = vec(ddxb, ddyb, ddthul, ddthur)\n",
    "    Bu  = vec(   0,    0,     τl,     τr)\n",
    "else:\n",
    "    q   = vec(  thul,   thur)\n",
    "    dq  = vec( dthul,  dthur)\n",
    "    ddq = vec(ddthul, ddthur)\n",
    "    Bu  = vec(    τl,     τr)\n",
    "\n",
    "# q, dq, ddq, Bu"
   ]
  },
  {
   "cell_type": "code",
   "execution_count": null,
   "metadata": {},
   "outputs": [],
   "source": [
    "def time_derivative(vector: sp.Matrix, state=vec(*q, *dq), state_deriv=vec(*dq, *ddq)):\n",
    "    return vector.jacobian(state) @ state_deriv\n",
    "\n",
    "def time_derivative_matrix(matrix: sp.Matrix, *args):\n",
    "    n,m = matrix.shape\n",
    "    return time_derivative(matrix.reshape(n*m, 1), *args).reshape(n,m)"
   ]
  },
  {
   "source": [
    "## Find positions"
   ],
   "cell_type": "markdown",
   "metadata": {}
  },
  {
   "cell_type": "code",
   "execution_count": null,
   "metadata": {},
   "outputs": [],
   "source": [
    "def get_lower_leg_eqns():\n",
    "    th_ll_TMP, th_lr_TMP = sp.symbols('th_ll th_lr')\n",
    "\n",
    "    a = thul - thur\n",
    "    b = thur + (180 - th_lr_TMP)\n",
    "    c = th_ll_TMP + (180 - thul)\n",
    "    d = 360 - (a + b + c)\n",
    "\n",
    "    thll, thlr = sp.solve([\n",
    "        b - c,\n",
    "        sp.Eq(\n",
    "            2*ru**2 * (1 - sp.cos(a)),\n",
    "            2*rl**2 * (1 - sp.cos(d))\n",
    "        )\n",
    "    ], (th_ll_TMP, th_lr_TMP))[0]\n",
    "    \n",
    "    dthll, dthlr = vec(thll, thlr).jacobian([thul, thur]) @ vec(dthul, dthur)\n",
    "    \n",
    "    return simplify(vec(thll, thlr, dthll, dthlr))"
   ]
  },
  {
   "cell_type": "code",
   "execution_count": null,
   "metadata": {},
   "outputs": [],
   "source": [
    "thll, thlr, dthll, dthlr = get_lower_leg_eqns()"
   ]
  },
  {
   "cell_type": "code",
   "execution_count": null,
   "metadata": {},
   "outputs": [],
   "source": [
    "# the base\n",
    "Pb_I = vec(xb, yb)\n",
    "Rb_I = pe.utils.rot(0).T\n",
    "# Rb_I = pe.utils.rot(thb).T\n",
    "\n",
    "# connection between base and top links\n",
    "conn_b = Pb_I\n",
    "\n",
    "conn_ls = conn_b #+ Rb_I @ Mat([-rb/2, 0])\n",
    "conn_rs = conn_b #+ Rb_I @ Mat([ rb/2, 0])\n",
    "\n",
    "# the top links (shoulder to knee)\n",
    "Pul_ul = vec(0, -ru/2)\n",
    "Rul_I = pe.utils.rot(thul).T\n",
    "Pul_I = simplify(conn_ls + Rul_I @ Pul_ul)\n",
    "\n",
    "conn_lk = conn_ls + Rul_I @ vec(0, -ru)\n",
    "\n",
    "Pur_ur = vec(0, -ru/2)\n",
    "Rur_I = pe.utils.rot(thur).T\n",
    "Pur_I = simplify(conn_rs + Rur_I @ Pur_ur)\n",
    "\n",
    "conn_rk = conn_rs + Rur_I @ vec(0, -ru)\n",
    "\n",
    "# the bottom links (knee to foot)\n",
    "Pll_ll = vec(0, -rl/2)\n",
    "Rll_I = pe.utils.rot(thll).T\n",
    "Pll_I = simplify(conn_lk + Rll_I @ Pll_ll)\n",
    "\n",
    "conn_lf = conn_lk + Rll_I @ vec(0, -rl)\n",
    "\n",
    "Plr_lr = vec(0, -rl/2)\n",
    "Rlr_I = pe.utils.rot(thlr).T\n",
    "Plr_I = simplify(conn_rk + Rlr_I @ Plr_lr)\n",
    "\n",
    "conn_rf = conn_rk + Rlr_I @ vec(0, -rl)"
   ]
  },
  {
   "source": [
    "## Define energies and calculate parts of manipulator equation"
   ],
   "cell_type": "markdown",
   "metadata": {}
  },
  {
   "cell_type": "code",
   "execution_count": null,
   "metadata": {},
   "outputs": [],
   "source": [
    "# calculate the system's kinetic and potential energy\n",
    "Ps = [Pb_I, Pul_I, Pur_I, Pll_I, Plr_I]\n",
    "Rs = [Rb_I, Rul_I, Rur_I, Rll_I, Rlr_I]\n",
    "dths = [ 0, dthul, dthur, dthll, dthlr]\n",
    "Is = [  Ib,    Iu,    Iu,    Il,    Il]\n",
    "ms = [  mb,    mu,    mu,  0*ml,  0*ml]\n",
    "\n",
    "dxy = [P.jacobian(q) @ dq for P in Ps]\n",
    "\n",
    "Ek = vec(sp.trigsimp(sum(\n",
    "    0.5*m*(dx**2 + dy**2) + 0.5*I*dth**2\n",
    "        for m, I, (dx, dy), dth in zip(ms, Is, dxy, dths)\n",
    ")))\n",
    "\n",
    "Ep = vec(sp.trigsimp(sum(\n",
    "    m*g*y for m, (_, y) in zip(ms, Ps)\n",
    ")))\n",
    "\n",
    "sp.count_ops(Ek), sp.count_ops(Ep)"
   ]
  },
  {
   "cell_type": "code",
   "execution_count": null,
   "metadata": {},
   "outputs": [],
   "source": [
    "# manipulator equation parts: mass matrix, coriolis, gravity/NC force\n",
    "M, C, G = pe.utils.manipulator_equation(Ek, Ep, q, dq)\n",
    "\n",
    "M = trigsimp(M)\n",
    "C = trigsimp(C)\n",
    "G = trigsimp(G)\n",
    "\n",
    "sp.count_ops(M), sp.count_ops(C), sp.count_ops(G)"
   ]
  },
  {
   "cell_type": "code",
   "execution_count": null,
   "metadata": {},
   "outputs": [],
   "source": [
    "# contact\n",
    "def getfoot():\n",
    "    from sympy import sin, cos, sqrt\n",
    "    th1 = thul\n",
    "    th2 = thur\n",
    "    l1 = ru\n",
    "    l2 = rl\n",
    "    diff = (th1 - th2)/2\n",
    "    body = l1 * cos(diff) + sqrt(l2**2 - l1**2 * sin(diff)**2)\n",
    "    s = (th1 + th2)/2\n",
    "    return vec(body * cos(s), body * sin(s))\n",
    "\n",
    "foot = getfoot()\n",
    "J_L = foot.jacobian(q)\n",
    "L = vec(Lx, Ly)"
   ]
  },
  {
   "cell_type": "markdown",
   "metadata": {},
   "source": [
    "## Define foot in polar coordinates $\\left(r,~\\theta \\right)$\n",
    "\n",
    "This is a \"virtual leg\" of sorts"
   ]
  },
  {
   "cell_type": "code",
   "execution_count": null,
   "metadata": {},
   "outputs": [],
   "source": [
    "th1 = thul\n",
    "th2 = thur\n",
    "rp = ru * sp.cos((th1-th2)/2) + sp.sqrt(rl**2 - ru**2 * sp.sin((th1-th2)/2)**2)\n",
    "#rp = sp.simplify(sp.sqrt(conn_rf[1]**2 + conn_rf[0]**2))\n",
    "#thp = sp.atan2(conn_rf[1], conn_rf[0])\n",
    "thp = (thul + thur)/2\n",
    "\n",
    "foot_polar = vec(rp, thp)\n",
    "foot_polar"
   ]
  },
  {
   "cell_type": "markdown",
   "metadata": {},
   "source": [
    "# Impedance control\n",
    "\n",
    "First, we decide on an output $y$ to control. We could choose $y = \\begin{bmatrix} \\theta_1 \\\\ \\theta_2 \\end{bmatrix}$ to control leg angles, or $y = \\begin{bmatrix} r \\\\ \\theta \\end{bmatrix}$ to control the position of the foot in polar coordinates\n",
    "\n",
    "-----\n",
    "\n",
    "Next, we differentiate the output $y = f(q)$ until we get to the \"control input\" level. In mechanical systems, this is at the acceleration level, after differentiating twice: $$\\ddot{y} = f(q, \\dot{q}, \\ddot{q})$$ because $\\ddot{q}$ is a function of $u$, but $q$ and $\\dot{q}$ aren't"
   ]
  },
  {
   "cell_type": "code",
   "execution_count": null,
   "metadata": {},
   "outputs": [],
   "source": [
    "# y = vec(thul, thur)\n",
    "y = foot_polar\n",
    "\n",
    "dy = simplify(time_derivative(y))\n",
    "\n",
    "ddy = simplify(time_derivative(dy))\n",
    "\n",
    "y, dy, ddy"
   ]
  },
  {
   "source": [
    "Now, let $$\\ddot{y} = f(q, \\dot{q}, \\ddot{q}) = v$$ where $v$ is a pseudo control input. Setting $v$ will set the \"dynamics\" ($\\ddot{y}$) of our output - for example, we could make it behave like a spring-damper system by controlling it with a PD controller: $$v = k_p e + e_d \\dot{e}$$ where $e = v_{setpoint} - v$. Bear in mind that $v = \\ddot{y}$ is essentially a double integrator $\\left( \\frac{1}{s^2} \\right)$\n",
    "\n",
    "-----\n",
    "\n",
    "So we know how to calculate $v$, which determines $\\ddot{y}$. The next step is to map that to the _actual_ control inputs ($u$), which we do in two stages:\n",
    "\n",
    "First, solve $\\ddot{y} = v = f(q, \\dot{q}, \\ddot{q})$ for $\\ddot{q}$, where $v$ is calculated as above\n",
    "\n",
    "Doing that the naive/simple way (as in `sp.solve(ddy - ddysetpoint, ddthul, ddthur)`) takes aaaages, but we can speed things up by noticing that\n",
    "\n",
    "$$\\dot{y} = J_y ~ \\dot{q}$$\n",
    "$$\\ddot{y} = J_y ~ \\ddot{q} + \\dot{J}_y ~ \\dot{q}$$\n",
    "where $J_y$ is the Jacobian of $y$ with respect to $q$, and $\\dot{J}_y$ is the time derivative of $J_y$\n",
    "\n",
    "Solving:\n",
    "$$ \\ddot{q} = J_y^{-1} (\\ddot{y} - \\dot{J}_y ~ \\dot{q})$$\n",
    "\n",
    "We can do this symbolically in this example, but if doing so isn't possible for a given system, the steps from here onwards can be done numerically (ie calculate `ddq = J_y \\ (ddy - dJy @ dq)`)"
   ],
   "cell_type": "markdown",
   "metadata": {}
  },
  {
   "cell_type": "code",
   "execution_count": null,
   "metadata": {},
   "outputs": [],
   "source": [
    "Jy = simplify(y.jacobian(q))\n",
    "dJy = simplify(time_derivative_matrix(Jy))"
   ]
  },
  {
   "cell_type": "code",
   "execution_count": null,
   "metadata": {},
   "outputs": [],
   "source": [
    "ddysetpoint = ddrs, ddths = vec(*sp.symbols(f'ddr_setpoint ddth_setpoint'))\n",
    "\n",
    "# the line below is the same as `Jy.inv() @ (ddy - dJy * dq)`, but faster\n",
    "ddq_eqn = full_simp(\n",
    "    Jy.solve(ddysetpoint - dJy * dq)\n",
    ")\n",
    "\n",
    "# should only contain these symbols\n",
    "assert ddq_eqn.free_symbols.issubset({thul, dthul, thur, dthur, ddrs, ddths})\n",
    "\n",
    "print(sp.count_ops(ddq_eqn))\n",
    "\n",
    "ddq_eqn"
   ]
  },
  {
   "cell_type": "code",
   "execution_count": null,
   "metadata": {},
   "outputs": [],
   "source": [
    "# sp.count_ops(Jy) + sp.count_ops(ddysetpoint - dJy * dq), sp.count_ops(ddq_eqn)"
   ]
  },
  {
   "cell_type": "code",
   "execution_count": null,
   "metadata": {},
   "outputs": [],
   "source": [
    "# # test:\n",
    "# ddy_test = simplify(\n",
    "#     Jy@ddq + dJy@dq\n",
    "# )\n",
    "# should_equal_zero = simplify(sp.trigsimp(sp.expand(\n",
    "#     ddy_test - ddy\n",
    "# )))\n",
    "# assert all(expr == 0 for expr in should_equal_zero)"
   ]
  },
  {
   "source": [
    "Next, we solve the equations of motion ($M\\ddot{q} + C\\dot{q} + G = B u + Q + A^T F$) to get $u$\n",
    "\n",
    "Again, to do this performantly, we should solve the `Ax=b` version: $B \\tau = M\\ddot{q} + C\\dot{q} + G - Q - J_L^T L$\n",
    "\n",
    "_However_, since our system has $B = \\begin{bmatrix} 1 & 0 \\\\ 0 & 1 \\end{bmatrix}$, we can just calculate $\\tau = M\\ddot{q} + C\\dot{q} + G - Q - J_L^T L$ directly"
   ],
   "cell_type": "markdown",
   "metadata": {}
  },
  {
   "cell_type": "code",
   "execution_count": null,
   "metadata": {},
   "outputs": [],
   "source": [
    "torque_input = full_simp(\n",
    "    M @ ddq_eqn + C + G - J_L.T @ L\n",
    ")3\n",
    "\n",
    "sp.count_ops(torque_input), torque_input.free_symbols"
   ]
  },
  {
   "source": [
    "The ODrive does [current control, not torque control](https://docs.odriverobotics.com/#current-control) (although that's changing [in a new version](https://github.com/madcowswe/ODrive/blob/v0.5.1-rc5/Firmware/odrive-interface.yaml#L955)). For now we need to map current to torque via a torque constant $K_t$"
   ],
   "cell_type": "markdown",
   "metadata": {}
  },
  {
   "cell_type": "code",
   "execution_count": null,
   "metadata": {},
   "outputs": [],
   "source": [
    "Kt = sp.Symbol('Kt')\n",
    "current_input = 1/Kt * torque_input"
   ]
  },
  {
   "source": [
    "Great - calculate `current_input` and we're done. We could lambdify a function (which should be fast enough -- see timing below) but if it isn't, it could be worth using `numba`:\n",
    "- https://numba.readthedocs.io/en/stable/user/5minguide.html\n",
    "- https://numba.readthedocs.io/en/stable/reference/aot-compilation.html)"
   ],
   "cell_type": "markdown",
   "metadata": {}
  },
  {
   "cell_type": "code",
   "execution_count": null,
   "metadata": {},
   "outputs": [],
   "source": [
    "current_lambdified = sp.lambdify(\n",
    "    [ddrs, ddths, thul, thur, dthul, dthur, Lx, Ly, Kt],\n",
    "    (current_input[0], current_input[1]))\n",
    "\n",
    "test = current_lambdified(1., 2., 3., 4., 5., 6., 7., 8., 9.)\n",
    "assert isinstance(test, tuple) and all(isinstance(t, float) for t in test)"
   ]
  },
  {
   "source": [
    "Otherwise we can just write the function to disk:"
   ],
   "cell_type": "markdown",
   "metadata": {}
  },
  {
   "cell_type": "code",
   "execution_count": null,
   "metadata": {},
   "outputs": [],
   "source": [
    "cm = constants_mapping\n",
    "pycode = f\"\"\"# generated by impedance-control.ipynb\n",
    "import math, typing\n",
    "\n",
    "def impedance_control(\n",
    "        ddr_setpoint: float, ddth_setpoint: float,\n",
    "        th_ul: float, th_ur: float,\n",
    "        dth_ul: float, dth_ur: float,\n",
    "        L_x: float, L_y: float,\n",
    "        Kt: float\n",
    "    ) -> typing.Tuple[float, float]:\n",
    "    \\\"\\\"\\\"\n",
    "    Masses and lengths:\n",
    "    mb = {cm[mb]:.3f}kg, mu = {cm[mu]:.3f}kg, ml = {cm[ml]:.3f}kg\n",
    "    rb = {cm[rb]:.3f} m, ru = {cm[ru]:.3f} m, rl = {cm[rl]:.3f} m, g = {cm[g]:.3f}m/s^2\n",
    "    \n",
    "    Kt is the torque constant\n",
    "    \\\"\\\"\\\"\n",
    "    # motor0, motor1\n",
    "    current_input = (\n",
    "        {sp.pycode(current_input[0])},\n",
    "        {sp.pycode(current_input[1])},\n",
    "    )\n",
    "    return current_input\n",
    "\"\"\".replace('\\\\theta_','th_').replace('{', '').replace('}', '').replace(r'\\dot', 'd')\n",
    "\n",
    "with open('scripts/controller_generated.py', 'w') as f:\n",
    "    f.write(pycode)\n",
    "\n",
    "# print(pycode)"
   ]
  },
  {
   "cell_type": "code",
   "execution_count": null,
   "metadata": {},
   "outputs": [],
   "source": [
    "%load_ext autoreload\n",
    "%autoreload 2"
   ]
  },
  {
   "cell_type": "code",
   "execution_count": null,
   "metadata": {},
   "outputs": [],
   "source": [
    "from scripts.controller_generated import impedance_control\n",
    "import math\n",
    "\n",
    "test_input = np.random.random(9)\n",
    "\n",
    "for lamb, disk in zip(current_lambdified(*test_input), impedance_control(*test_input)):\n",
    "    if not math.isclose(lamb, disk):\n",
    "        print('got different values:', lamb, disk, lamb-disk, test_input)"
   ]
  },
  {
   "cell_type": "code",
   "execution_count": null,
   "metadata": {},
   "outputs": [],
   "source": [
    "from timeit import timeit\n",
    "\n",
    "N = 1000\n",
    "\n",
    "tlambdify = timeit('current_lambdified(1.,2.,3.,4.,5.,6.,7.,8.,9.)',\n",
    "                   number=N, globals=globals())/N\n",
    "twritetodisk = timeit('impedance_control(1.,2.,3.,4.,5.,6.,7.,8.,9.)',\n",
    "                      number=N, globals=globals())/N\n",
    "# twritetodisk = timeit('impedance_control(ddr_setpoint=1.,ddth_setpoint=2.,th_ul=3.,th_ur=4.,dth_ul=5.,dth_ur=6.,L_x=7.,L_y=8.,Kt=9.)',\n",
    "#                       number=N, globals=globals())/N\n",
    "\n",
    "print(f'lambdify: {tlambdify*1000} ms | write to disk: {twritetodisk*1000} ms')"
   ]
  },
  {
   "source": [
    "and that's that! Writing to disk is much faster"
   ],
   "cell_type": "markdown",
   "metadata": {}
  },
  {
   "cell_type": "code",
   "execution_count": null,
   "metadata": {},
   "outputs": [],
   "source": [
    "rth = full_simp(foot_polar)\n",
    "drth = full_simp(time_derivative(foot_polar))\n",
    "\n",
    "assert rth.free_symbols.issubset({thul, thur})\n",
    "assert drth.free_symbols.issubset({thul, thur, dthul, dthur})\n",
    "\n",
    "# rth, drth"
   ]
  },
  {
   "cell_type": "code",
   "execution_count": null,
   "metadata": {},
   "outputs": [],
   "source": [
    "cm = constants_mapping\n",
    "\n",
    "pycode = f\"\"\"\n",
    "\n",
    "def foot_state_polar(\n",
    "        th_ul: float, th_ur: float,\n",
    "        dth_ul: float, dth_ur: float,\n",
    "    ) -> typing.Tuple[float, float, float, float]:\n",
    "    \\\"\\\"\\\"\n",
    "    Masses and lengths:\n",
    "    mb = {cm[mb]:.3f}kg, mu = {cm[mu]:.3f}kg, ml = {cm[ml]:.3f}kg\n",
    "    rb = {cm[rb]:.3f} m, ru = {cm[ru]:.3f} m, rl = {cm[rl]:.3f} m, g = {cm[g]:.3f}m/s^2\n",
    "    \\\"\\\"\\\"\n",
    "    # r, th, dr, dth\n",
    "    foot_state_polar = (\n",
    "        {sp.pycode(rth[0])},\n",
    "        {sp.pycode(rth[1])},\n",
    "        {sp.pycode(drth[0])},\n",
    "        {sp.pycode(drth[1])},\n",
    "    )\n",
    "    return foot_state_polar\n",
    "\"\"\".replace('\\\\theta_','th_').replace('{', '').replace('}', '').replace(r'\\dot', 'd')\n",
    "\n",
    "with open('scripts/controller_generated.py', 'a') as f:\n",
    "    f.write(pycode)\n",
    "\n",
    "# print(pycode)"
   ]
  },
  {
   "source": [
    "-----\n",
    "-----\n",
    "-----\n",
    "# Forward simulation"
   ],
   "cell_type": "markdown",
   "metadata": {}
  },
  {
   "cell_type": "code",
   "execution_count": null,
   "metadata": {},
   "outputs": [],
   "source": [
    "rhs = (\n",
    "    C + G - Bu - J_L.T @ L\n",
    ").subs(constants_mapping).evalf()\n",
    "\n",
    "args = [*q, *dq, *u, Lx, Ly]\n",
    "assert rhs.free_symbols.issubset(set(args))\n",
    "\n",
    "dynamics_rhs = sp.lambdify(args, rhs)"
   ]
  },
  {
   "cell_type": "code",
   "execution_count": null,
   "metadata": {},
   "outputs": [],
   "source": [
    "dynamics_lhs = sp.lambdify([thul, thur], M)"
   ]
  },
  {
   "cell_type": "code",
   "execution_count": null,
   "metadata": {},
   "outputs": [],
   "source": [
    "np.linalg.solve(dynamics_lhs(1, 2), dynamics_rhs(*[1]*len(args)))"
   ]
  },
  {
   "cell_type": "code",
   "execution_count": null,
   "metadata": {},
   "outputs": [],
   "source": [
    "ddq_f = (\n",
    "    M.solve(rhs)\n",
    "    # M @ ddq + C + G - B - J_L.T @ L\n",
    ")\n",
    "\n",
    "# ddq_f = pe.utils.parsimp(ddq_f, nprocs=4, f=sp.trigsimp)\n",
    "# ddq_f = pe.utils.parsimp(ddq_f, nprocs=4, f=sp.simplify)\n",
    "\n",
    "# ddq_f"
   ]
  },
  {
   "source": [
    "# Attic"
   ],
   "cell_type": "markdown",
   "metadata": {}
  },
  {
   "cell_type": "code",
   "execution_count": null,
   "metadata": {},
   "outputs": [],
   "source": [
    "# def getb():\n",
    "#     fr = Rl_I @ vec(0, -Fr)\n",
    "#     rr = Pl_I\n",
    "#     Qr = (fr.T @ rr.jacobian(q)).T\n",
    "\n",
    "#     fth = Mat([Fth])\n",
    "#     rth = Mat([thb-thl])\n",
    "#     Qth = (fth.T @ rth.jacobian(q)).T\n",
    "\n",
    "#     return Qr + Qth\n",
    "\n",
    "# B = getb().jacobian(u)"
   ]
  },
  {
   "cell_type": "code",
   "execution_count": null,
   "metadata": {},
   "outputs": [],
   "source": [
    "# # Jacobian and time derivative\n",
    "# A = foot.jacobian(q)  # or: conn_rf, conn_lf\n",
    "# dA = time_derivative_matrix(A)\n",
    "# # dA = sp.zeros(*A.shape)\n",
    "\n",
    "# # constraint forces\n",
    "# # Mi = M.inv()\n",
    "# # λ = -(A @ Mi @ A.T).inv() * (A @ Mi @ (B + Q - C - G) + dA @ dq)\n",
    "# # λ = -inv(A*inv(M)*transpose(A))*(A*inv(M)*(B + Q - C - G) + dA*dq)\n",
    "# # λ = sp.simplify(λ)\n",
    "\n",
    "# # eqn = M@ddq + C + G - B - Q - A.T*λ\n",
    "# # eqn = sp.simplify(eqn)\n",
    "\n",
    "# A#, dA"
   ]
  },
  {
   "cell_type": "code",
   "execution_count": null,
   "metadata": {},
   "outputs": [],
   "source": [
    "# # sp.init_printing(wrap_line=True) #     num_columns: int or None\n",
    "\n",
    "# # B_ = B.jacobian(u)\n",
    "# # B_inv = sp.inv_quick(B_.T @ B_) @ B_.T\n",
    "\n",
    "# assert B_inv @ B_ == Mat([[1, 0], [0, 1]])"
   ]
  }
 ],
 "metadata": {
  "kernelspec": {
   "name": "python3",
   "display_name": "Python 3.8.5 64-bit ('foot-design': conda)",
   "metadata": {
    "interpreter": {
     "hash": "a0c0a0d088a9e962be4d746e6bbcd522d6688c26a0653af33c0402f0c5d5a180"
    }
   }
  },
  "language_info": {
   "codemirror_mode": {
    "name": "ipython",
    "version": 3
   },
   "file_extension": ".py",
   "mimetype": "text/x-python",
   "name": "python",
   "nbconvert_exporter": "python",
   "pygments_lexer": "ipython3",
   "version": "3.8.5-final"
  }
 },
 "nbformat": 4,
 "nbformat_minor": 4
}