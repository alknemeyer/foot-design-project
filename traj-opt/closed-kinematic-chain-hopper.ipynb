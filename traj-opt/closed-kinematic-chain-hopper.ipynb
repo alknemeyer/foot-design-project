{
 "cells": [
  {
   "cell_type": "code",
   "execution_count": null,
   "metadata": {},
   "outputs": [],
   "source": [
    "import sympy as sp, numpy as np\n",
    "from sympy import Matrix as Mat\n",
    "\n",
    "# sp.init_printing(use_latex=False, use_unicode=False)\n",
    "\n",
    "%load_ext autoreload\n",
    "%autoreload 2\n",
    "import ckc_lib\n",
    "import physical_education as pe"
   ]
  },
  {
   "cell_type": "code",
   "execution_count": null,
   "metadata": {},
   "outputs": [],
   "source": [
    "constants = mb, mu, ml, rb, ru, rl, g = sp.symbols('m_b m_u m_l r_b r_u r_l g', real=True)\n",
    "constants_mapping = dict(zip(constants, (4.1, 0.090, 0.090, 0.15, 0.1375, 0.250, 9.81)))\n",
    "\n",
    "Ib, Iu, Il = mb*(rb**2 + rb**2)/12, (mu*ru**2)/12, (ml*rl**2)/12\n",
    "Ib = 0\n",
    "\n",
    "# two input torques\n",
    "τ = τl, τr = Mat(sp.symbols('\\\\tau_:2', real=True))\n",
    "\n",
    "# two constraint forces\n",
    "Fr = Mat([*sp.symbols('N_x N_y', real=True)])\n",
    "\n",
    "# two ground reaction forces\n",
    "Lx = Mat(sp.symbols('L_x:2', real=True))\n",
    "Ly = sp.symbols('L_y', real=True)\n",
    "\n",
    "Mat([*constants, *τ, *Fr, *Lx, Ly]).T"
   ]
  },
  {
   "cell_type": "code",
   "execution_count": null,
   "metadata": {},
   "outputs": [],
   "source": [
    "# reduntant_foot_pos = True\n",
    "\n",
    "# the states of the leg\n",
    "def sym_and_derivs(symbol: str):\n",
    "    return sp.symbols(r'%s \\dot{%s} \\ddot{%s}' % (symbol, symbol, symbol))\n",
    "\n",
    "xb, dxb, ddxb = sym_and_derivs('x')\n",
    "yb, dyb, ddyb = sym_and_derivs('y')\n",
    "\n",
    "thb, dthb, ddthb = sym_and_derivs('\\\\theta_b')\n",
    "thul, dthul, ddthul = sym_and_derivs('\\\\theta_{ul}')\n",
    "thur, dthur, ddthur = sym_and_derivs('\\\\theta_{ur}')\n",
    "thll, dthll, ddthll = sym_and_derivs('\\\\theta_{ll}')\n",
    "thlr, dthlr, ddthlr = sym_and_derivs('\\\\theta_{lr}')\n",
    "\n",
    "# if reduntant_foot_pos:\n",
    "#     fx, dfx, ddfx = sym_and_derivs('f_x')\n",
    "#     fy, dfy, ddfy = sym_and_derivs('f_y')\n",
    "#     _qf = [fx, fy]; _dqf = [dfx, dfy]; _ddqf = [ddfx, ddfy]; _B = [0, 0]\n",
    "# else:\n",
    "#     fx = dfx = ddfx = fy = dfy = ddfy = _qf = _dqf = _ddqf = _B = ()\n",
    "\n",
    "q   = Mat([  xb,   yb,   thb,   thul,   thur,   thll,   thlr])#,   *_qf])\n",
    "dq  = Mat([ dxb,  dyb,  dthb,  dthul,  dthur,  dthll,  dthlr])#,  *_dqf])\n",
    "ddq = Mat([ddxb, ddyb, ddthb, ddthul, ddthur, ddthll, ddthlr])#, *_ddqf])\n",
    "B   = Mat([   0,    0, τl+τr,    -τl,    -τr,      0,      0])#,    *_B])\n",
    "\n",
    "# q, dq, ddq, B"
   ]
  },
  {
   "cell_type": "code",
   "execution_count": null,
   "metadata": {},
   "outputs": [],
   "source": [
    "# the base\n",
    "Pb_I = Mat([xb, yb])\n",
    "Rb_I = pe.utils.rot(thb).T\n",
    "\n",
    "# connection between base and top links\n",
    "conn_b = Pb_I\n",
    "\n",
    "conn_ls = conn_b #+ Rb_I @ Mat([-rb/2, 0])\n",
    "conn_rs = conn_b #+ Rb_I @ Mat([ rb/2, 0])\n",
    "\n",
    "# the top links (shoulder to knee)\n",
    "Pul_ul = Mat([0, -ru/2])\n",
    "Rul_I = pe.utils.rot(thul).T\n",
    "Pul_I = sp.trigsimp(conn_ls + Rul_I @ Pul_ul)\n",
    "\n",
    "conn_lk = conn_ls + Rul_I @ Mat([0, -ru])\n",
    "\n",
    "Pur_ur = Mat([0, -ru/2])\n",
    "Rur_I = pe.utils.rot(thur).T\n",
    "Pur_I = sp.trigsimp(conn_rs + Rur_I @ Pur_ur)\n",
    "\n",
    "conn_rk = conn_rs + Rur_I @ Mat([0, -ru])\n",
    "\n",
    "# the bottom links (knee to foot)\n",
    "Pll_ll = Mat([0, -rl/2])\n",
    "Rll_I = pe.utils.rot(thll).T\n",
    "Pll_I = sp.trigsimp(conn_lk + Rll_I @ Pll_ll)\n",
    "\n",
    "conn_lf = conn_lk + Rll_I @ Mat([0, -rl])\n",
    "\n",
    "Plr_lr = Mat([0, -rl/2])\n",
    "Rlr_I = pe.utils.rot(thlr).T\n",
    "Plr_I = sp.trigsimp(conn_rk + Rlr_I @ Plr_lr)\n",
    "\n",
    "conn_rf = conn_rk + Rlr_I @ Mat([0, -rl])"
   ]
  },
  {
   "cell_type": "markdown",
   "metadata": {},
   "source": [
    "# Geometry constraints"
   ]
  },
  {
   "cell_type": "code",
   "execution_count": null,
   "metadata": {},
   "outputs": [],
   "source": [
    "geom_constraints = Mat(conn_rf - conn_lf)\n",
    "J_c = sp.trigsimp(geom_constraints.jacobian(q))"
   ]
  },
  {
   "cell_type": "markdown",
   "metadata": {},
   "source": [
    "# Contact constraints\n",
    "Using the left foot"
   ]
  },
  {
   "cell_type": "code",
   "execution_count": null,
   "metadata": {},
   "outputs": [],
   "source": [
    "J_L = conn_lf.jacobian(q)\n",
    "foot_dx = Mat([conn_lf[0]]).jacobian(q) @ dq\n",
    "\n",
    "D = np.array([[ 1, 0],\n",
    "              [-1, 0]])\n",
    "\n",
    "L = Mat(D).T @ Lx + Mat([0, Ly])"
   ]
  },
  {
   "cell_type": "markdown",
   "metadata": {},
   "source": [
    "# Manipulator equations"
   ]
  },
  {
   "cell_type": "code",
   "execution_count": null,
   "metadata": {},
   "outputs": [],
   "source": [
    "# calculate the system's kinetic and potential energy\n",
    "Ps = [Pb_I, Pul_I, Pur_I, Pll_I, Plr_I]\n",
    "Rs = [Rb_I, Rul_I, Rur_I, Rll_I, Rlr_I]\n",
    "dths = dq[2:]\n",
    "Is = [  Ib,    Iu,    Iu,    Il,    Il]\n",
    "ms = [  mb,    mu,    mu,    ml,    ml]\n",
    "\n",
    "dxy = [P.jacobian(q) @ dq for P in Ps]\n",
    "\n",
    "Ek = sp.trigsimp(sum(\n",
    "    0.5*m*(dx**2 + dy**2) + 0.5*I*dth**2\n",
    "        for m, I, (dx, dy), dth in zip(ms, Is, dxy, dths)\n",
    "))\n",
    "\n",
    "Ep = sp.trigsimp(sum(\n",
    "    m*g*y for m, (_, y) in zip(ms, Ps)\n",
    "))"
   ]
  },
  {
   "cell_type": "code",
   "execution_count": null,
   "metadata": {},
   "outputs": [],
   "source": [
    "# manipulator equation parts: mass matrix, coriolis, gravity/NC force\n",
    "M, C, G = pe.utils.manipulator_equation(Mat([Ek]), Mat([Ep]), q, dq)\n",
    "\n",
    "M = sp.simplify(M); G = sp.simplify(G)"
   ]
  },
  {
   "cell_type": "code",
   "execution_count": null,
   "metadata": {},
   "outputs": [],
   "source": [
    "EOM = sp.trigsimp((\n",
    "    M @ ddq + C + G - B - J_L.T @ L - J_c.T @ Fr\n",
    ").subs(constants_mapping))"
   ]
  },
  {
   "cell_type": "code",
   "execution_count": null,
   "metadata": {},
   "outputs": [],
   "source": [
    "BW = float(((mb + 2*mu + 2*ml)*g).subs(constants_mapping))\n",
    "\n",
    "force_scalings = {}\n",
    "for f in [*τ, *Fr, *Lx, Ly]:\n",
    "    force_scalings[f] = f * BW"
   ]
  },
  {
   "cell_type": "code",
   "execution_count": null,
   "metadata": {},
   "outputs": [],
   "source": [
    "vars_in_EOM = [*q, *dq, *ddq, *τ, *Fr, *Lx, Ly]\n",
    "\n",
    "EOM_func = pe.utils.lambdify_EOM(\n",
    "    Mat([*EOM, *geom_constraints]).xreplace(force_scalings).xreplace(constants_mapping),\n",
    "    vars_in_EOM\n",
    ")\n",
    "\n",
    "def lambdify(expr):\n",
    "    return pe.utils.lambdify_EOM(expr.subs(constants_mapping), vars_in_EOM)\n",
    "\n",
    "foot_height_func = lambdify(conn_lf[1])[0]\n",
    "foot_dx_func = lambdify(foot_dx[0])[0]\n",
    "\n",
    "# for plotting\n",
    "joint_position_funcs = {\n",
    "      'body': lambdify(   Pb_I),\n",
    "    'l-shou': lambdify(conn_ls),\n",
    "    'l-knee': lambdify(conn_lk),\n",
    "    'l-foot': lambdify(conn_lf),\n",
    "\n",
    "    'r-shou': lambdify(conn_rs),\n",
    "    'r-knee': lambdify(conn_rk),\n",
    "    'r-foot': lambdify(conn_rf),\n",
    "}"
   ]
  },
  {
   "cell_type": "markdown",
   "metadata": {},
   "source": [
    "# Pyomo time"
   ]
  },
  {
   "cell_type": "code",
   "execution_count": null,
   "metadata": {},
   "outputs": [],
   "source": [
    "def penalty_cost(m, contact_scale: float = 10.):\n",
    "    return (sum(m.contact_penalty[:]) * contact_scale\n",
    "            + sum(m.friction_penalty[:])\n",
    "            + sum(m.slip_penalty[:, :]))\n",
    "\n",
    "def torque_cost(m, BW: float):\n",
    "    return BW**2 * sum(m.hm[fe]*(m.Tc[fe,T])**2 for fe in m.fe for T in m.Tc_set)\n",
    "\n",
    "def transport_cost(m, var: str = 'x'):\n",
    "    nfe = m.fe[-1]\n",
    "    ncp = m.cp[-1]\n",
    "    global BW\n",
    "    return torque_cost(m, BW) / (BW * m.q[nfe,ncp,var])"
   ]
  },
  {
   "cell_type": "code",
   "execution_count": null,
   "metadata": {},
   "outputs": [],
   "source": [
    "def get_total_time(m):\n",
    "    # pre-optimization\n",
    "    if m.hm[1].value is None:\n",
    "        nfe = m.fe[-1]\n",
    "        return m.hm0.value * nfe\n",
    "    \n",
    "    # optimization has run\n",
    "    else:\n",
    "        return m.hm0.value * sum(m.hm[fe].value for fe in m.fe)"
   ]
  },
  {
   "cell_type": "code",
   "execution_count": null,
   "metadata": {},
   "outputs": [],
   "source": [
    "from typing import Optional\n",
    "from pyomo.environ import Objective\n",
    "def random_init(m, mu: float = 0, sigma: float = 0.1, seed: Optional[int] = None):\n",
    "    \"\"\"\n",
    "        Randomly init the `q` and `foot_height` variables in `m`\n",
    "    \"\"\"\n",
    "    import random\n",
    "    if seed is not None:\n",
    "        random.seed(seed)\n",
    "\n",
    "    rand = lambda: random.gauss(mu=mu, sigma=sigma)\n",
    "    for fe, cp in pe.utils.get_indexes(len(m.fe), len(m.cp), one_based=True, skipfirst=False):\n",
    "        # random height between 0 and 0.5\n",
    "        m.foot_height[fe, cp].value = min(max(rand(), 0), 0.5)\n",
    "        \n",
    "        for var in m.vars:\n",
    "            m.q[fe,cp,var].value = rand()\n",
    "\n",
    "def set_all_initial_dq_to_0(m):\n",
    "    ncp = m.cp[-1]\n",
    "    for var in m.vars:\n",
    "        m.dq[1, ncp, var].fix(0)\n",
    "\n",
    "def constrain_y_above_ground(m):\n",
    "    for fe, cp in pe.utils.get_indexes(len(m.fe), len(m.cp), one_based=True, skipfirst=False):\n",
    "        m.q[fe, cp, 'yb'].setlb(0)\n",
    "\n",
    "\n",
    "def drop_test(m, from_height: float = 5, penalty_scale: float = 1000):\n",
    "    ncp = m.cp[-1]\n",
    "    \n",
    "    random_init(m, mu=0, sigma=0.1)\n",
    "    set_all_initial_dq_to_0(m)\n",
    "    constrain_y_above_ground(m)\n",
    "    \n",
    "    m.q[1,ncp,'xb'].fix(0)\n",
    "    m.q[1,ncp,'yb'].fix(from_height)\n",
    "    m.foot_height[1,ncp].setub(from_height)\n",
    "    \n",
    "    pen_cost = penalty_cost(m, contact_scale=10)\n",
    "    m.cost = Objective(expr = penalty_scale*pen_cost)\n",
    "    \n",
    "    return pen_cost\n",
    "\n",
    "\n",
    "\n",
    "def stop_test(m, from_height: float = 2.5, penalty_scale: float = 1000, initial_vel: float = 1.0):\n",
    "    nfe, ncp = m.fe[-1], m.cp[-1]\n",
    "    random_init(m, mu=0, sigma=0.1)\n",
    "    constrain_y_above_ground(m)\n",
    "    \n",
    "    m.q[1,ncp,'xb'].fix(0)\n",
    "    m.q[1,ncp,'yb'].fix(from_height)\n",
    "    m.dq[1,ncp,'xb'].fix(initial_vel)\n",
    "    m.dq[1,ncp,'yb'].fix(0)\n",
    "    \n",
    "    m.dq[nfe,ncp,'xb'].fix(0)\n",
    "    \n",
    "    pen_cost = penalty_cost(m, contact_scale=10)\n",
    "    m.cost = Objective(expr = penalty_scale*pen_cost)\n",
    "    \n",
    "    return pen_cost\n",
    "\n",
    "\n",
    "\n",
    "def move_forward_test(m, penalty_scale: float = 1000):\n",
    "    nfe, ncp = len(m.fe), len(m.cp)\n",
    "        \n",
    "    random_init(m, mu=0, sigma=0.1)\n",
    "    constrain_y_above_ground(m)\n",
    "    set_all_initial_dq_to_0(m)\n",
    "    \n",
    "    # start stationary\n",
    "    m.q[1, ncp, 'xb'].fix(0)\n",
    "    m.foot_height[1, ncp].fix(0)\n",
    "    \n",
    "    # straight angles\n",
    "    m.q[1, ncp, 'thb'].fix(0)\n",
    "    m.q[1, ncp, 'thul'].fix(-0.05)\n",
    "    m.q[1, ncp, 'thur'].fix( 0.05)\n",
    "    \n",
    "    # move forward and up\n",
    "    m.q[nfe, ncp, 'xb'].setlb(0.7)\n",
    "    m.q[nfe, ncp, 'yb'].setlb(1.0)\n",
    "    \n",
    "    pen_cost = penalty_cost(m, contact_scale=10)\n",
    "    CoT_cost = transport_cost(m, var='xb')\n",
    "    m.cost = Objective(expr = penalty_scale*pen_cost + CoT_cost)\n",
    "    \n",
    "    return pen_cost\n",
    "\n",
    "\n",
    "\n",
    "def linear_interp_guess(m, var: str, dist: float, avg_vel: float):\n",
    "    nfe = m.fe[-1]\n",
    "    for fe, cp in pe.utils.get_indexes(len(m.fe), len(m.cp), one_based=True, skipfirst=False):\n",
    "        m.q[fe,cp,var].value = dist * (fe-1)/(nfe-1)\n",
    "        m.dq[fe,cp,var].value = avg_vel\n",
    "\n",
    "def periodic_gait_test(m, avg_vel: float, penalty_scale: float = 1000):\n",
    "    nfe, ncp = len(m.fe), len(m.cp)\n",
    "    total_time = get_total_time(m)\n",
    "    \n",
    "    random_init(m, mu=0, sigma=0.1)\n",
    "    constrain_y_above_ground(m)\n",
    "    linear_interp_guess(m, var='xb', dist=avg_vel*total_time, avg_vel=avg_vel)\n",
    "    \n",
    "    # fix start point\n",
    "    m.q[1,ncp,'xb'].fix(0)\n",
    "    \n",
    "    @m.Constraint(m.vars)\n",
    "    def periodic_vel_constr(m, var):\n",
    "        return m.dq[1,ncp,var] == m.dq[nfe,ncp,var]\n",
    "    \n",
    "    @m.Constraint([v for v in m.vars if v != 'xb'])\n",
    "    def periodic_constr(m, var):\n",
    "        return m.q[1,ncp,var] == m.q[nfe,ncp,var]\n",
    "    \n",
    "    @m.Constraint()  # x_f = Δt * v_avg\n",
    "    def avg_vel_constraint(m):\n",
    "        return m.q[nfe,ncp,'xb'] == (sum(m.hm[:]) * m.hm0) * avg_vel #m/s\n",
    "    \n",
    "    pen_cost = penalty_cost(m, contact_scale=10)\n",
    "    CoT_cost = transport_cost(m, var='xb')\n",
    "    m.cost = Objective(expr = penalty_scale*pen_cost + CoT_cost)\n",
    "    \n",
    "    return pen_cost"
   ]
  },
  {
   "cell_type": "code",
   "execution_count": null,
   "metadata": {
    "jupyter": {
     "source_hidden": true
    }
   },
   "outputs": [],
   "source": [
    "# class LivePrinter():\n",
    "#     def __init__(self, filename: str, figsize: tuple = (10, 6)):\n",
    "#         self.filename = filename\n",
    "#         self.figsize = figsize\n",
    "    \n",
    "#     def __enter__(self):\n",
    "#         import live_printer, multiprocessing\n",
    "        \n",
    "#         self.should_stop = multiprocessing.Event()\n",
    "#         proc = multiprocessing.Process(\n",
    "#             target=live_printer.live_plotter,\n",
    "#             args=(\n",
    "#                 self.filename,\n",
    "#                 self.figsize,\n",
    "#                 lambda: self.should_stop.is_set(),\n",
    "#             )\n",
    "#         )\n",
    "#         proc.start()\n",
    "        \n",
    "#     def __exit__(self, *args):\n",
    "#         print('Shutting down')\n",
    "#         self.should_stop.set()"
   ]
  },
  {
   "cell_type": "code",
   "execution_count": null,
   "metadata": {
    "jupyter": {
     "source_hidden": true
    }
   },
   "outputs": [],
   "source": [
    "# class LivePlotter():\n",
    "#     def __init__(self, filename: str, figsize: tuple = (10, 6)):\n",
    "#         self.filename = filename\n",
    "#         self.figsize = figsize\n",
    "    \n",
    "#     def __enter__(self):\n",
    "#         import live_printer, multiprocessing\n",
    "        \n",
    "#         self.should_stop = multiprocessing.Event()\n",
    "#         proc = multiprocessing.Process(\n",
    "#             target=live_printer.live_plotter,\n",
    "#             args=(\n",
    "#                 self.filename,\n",
    "#                 self.figsize,\n",
    "#                 lambda: self.should_stop.is_set(),\n",
    "#             )\n",
    "#         )\n",
    "#         proc.start()\n",
    "        \n",
    "#     def __exit__(self, *args):\n",
    "#         print('Shutting down')\n",
    "#         self.should_stop.set()"
   ]
  },
  {
   "cell_type": "code",
   "execution_count": null,
   "metadata": {
    "scrolled": true
   },
   "outputs": [],
   "source": [
    "from pyomo.environ import value as pyovalue\n",
    "\n",
    "m = ckc_lib.pyomo_model(\n",
    "    EOM_func, foot_height_func, foot_dx_func, nfe=50, total_time=0.4, collocation='radau'\n",
    ")\n",
    "\n",
    "# pen_cost = drop_test(m, from_height=1.)\n",
    "# pen_cost = stop_test(m, from_height=1., initial_vel= 1.)\n",
    "# pen_cost = move_forward_test(m)\n",
    "pen_cost = periodic_gait_test(m, avg_vel=3, penalty_scale=1)\n",
    "\n",
    "ret = pe.utils.default_solver(max_mins=20, solver='mumps', ipopt_path='ipopt', OF_hessian_approximation='limited-memory').solve(m, tee=True)\n",
    "\n",
    "pe.visual.info(f'Penalty cost: {pyovalue(pen_cost)}')"
   ]
  },
  {
   "cell_type": "code",
   "execution_count": null,
   "metadata": {},
   "outputs": [],
   "source": [
    "rb"
   ]
  },
  {
   "cell_type": "code",
   "execution_count": null,
   "metadata": {},
   "outputs": [],
   "source": [
    "ckc_lib.make_animation(m, joint_position_funcs, h_m=2*get_total_time(m)/m.fe[-1], body_width=constants_mapping[rb])"
   ]
  },
  {
   "cell_type": "code",
   "execution_count": null,
   "metadata": {},
   "outputs": [],
   "source": [
    "ckc_lib.make_plots(m)"
   ]
  },
  {
   "cell_type": "code",
   "execution_count": null,
   "metadata": {},
   "outputs": [],
   "source": []
  },
  {
   "cell_type": "markdown",
   "metadata": {},
   "source": [
    "## Force control\n",
    "\n",
    "Given equation:\n",
    "$$M\\ddot{q} + C\\dot{q} + G = B \\tau_m + Q + A^T F$$\n",
    "we want to find $\\tau_m$ = motor torque inputs\n",
    "\n",
    "Assume we can ignore $M$ (especially because it introduces accelerations, which we want to avoid) and $Q$ (which models disturbances, which we'll ignore), solve:\n",
    "$$\\tau_m = B^{-1} (G + C - A^T F)$$\n",
    "\n",
    "Questions:\n",
    "1. how to handle gear ratio?\n",
    "1. why did we calculate `dA`/$\\dot{A}$?"
   ]
  },
  {
   "cell_type": "code",
   "execution_count": null,
   "metadata": {},
   "outputs": [],
   "source": [
    "# eps = sp.diag([0.001]*M.shape[1], unpack=True)\n",
    "# sp.inv_quick(M + eps)\n",
    "# Mi = M.inv('')#('GE', 'LU', 'ADJ', 'CH', 'LDL')"
   ]
  },
  {
   "cell_type": "code",
   "execution_count": null,
   "metadata": {},
   "outputs": [],
   "source": [
    "vec = lambda *args: sp.Matrix(args)\n",
    "\n",
    "def time_derivative(vector):\n",
    "    return vector.jacobian(vec(*q,*dq)) @ vec(*dq,*ddq)\n",
    "\n",
    "def time_derivative_matrix(matrix):\n",
    "    n,m = matrix.shape\n",
    "    return time_derivative(matrix.reshape(n*m,1)).reshape(n,m)"
   ]
  },
  {
   "cell_type": "code",
   "execution_count": null,
   "metadata": {},
   "outputs": [],
   "source": [
    "# Jacobian and time derivative\n",
    "A = conn_rf.jacobian(q)  # or: conn_lf\n",
    "dA = time_derivative_matrix(A)\n",
    "# dA = sp.zeros(*A.shape)\n",
    "\n",
    "# constraint forces\n",
    "# Mi = M.inv()\n",
    "# λ = -(A @ Mi @ A.T).inv() * (A @ Mi @ (B + Q - C - G) + dA @ dq)\n",
    "# λ = -inv(A*inv(M)*transpose(A))*(A*inv(M)*(B + Q - C - G) + dA*dq)\n",
    "# λ = sp.simplify(λ)\n",
    "\n",
    "# eqn = M@ddq + C + G - B - Q - A.T*λ\n",
    "# eqn = sp.simplify(eqn)\n",
    "\n",
    "A, dA"
   ]
  },
  {
   "cell_type": "markdown",
   "metadata": {},
   "source": [
    "The EOM is implemented as:\n",
    "```python\n",
    "EOM = M @ ddq + C + G - B - J_L.T @ L - J_c.T @ Fr\n",
    "```\n",
    "so you need to be alert! `B` $== B\\tau_m \\ne B$"
   ]
  },
  {
   "cell_type": "code",
   "execution_count": null,
   "metadata": {},
   "outputs": [],
   "source": [
    "# sp.init_printing(wrap_line=True) #     num_columns: int or None\n",
    "\n",
    "B_ = B.jacobian(τ)\n",
    "B_inv = sp.inv_quick(B_.T @ B_) @ B_.T\n",
    "\n",
    "assert B_inv @ B_ == Mat([[1, 0], [0, 1]])\n",
    "\n",
    "A = J_L\n",
    "F = Mat([Lx[0], Ly])\n",
    "\n",
    "# τ_eqn = sp.simplify(B_inv @ (M@ddq + G + C - A.T @ F))\n",
    "τ_eqn = sp.simplify(B_inv @ (G + C - A.T @ F))\n",
    "# τ_eqn = sp.simplify(B_inv @ (G - A.T @ F))\n",
    "τ_eqn"
   ]
  },
  {
   "cell_type": "markdown",
   "metadata": {},
   "source": [
    "The ODrive does current control, not torque control: https://docs.odriverobotics.com/#current-control (although that's changing in a new version: https://github.com/madcowswe/ODrive/blob/v0.5.1-rc5/Firmware/odrive-interface.yaml#L955)\n",
    "\n",
    "but for now we need to map current to torque"
   ]
  },
  {
   "cell_type": "code",
   "execution_count": null,
   "metadata": {},
   "outputs": [],
   "source": [
    "# torque constant - pretty much randomly chosen right now!\n",
    "Kt = sp.Symbol('Kt')  # 0.08\n",
    "current_input = sp.simplify((1/Kt * τ_eqn).subs(constants_mapping))\n",
    "\n",
    "current_input"
   ]
  },
  {
   "cell_type": "code",
   "execution_count": null,
   "metadata": {},
   "outputs": [],
   "source": [
    "# from sympy.utilities.autowrap import ufuncify\n",
    "# ufuncify([Lx[0], Ly, dthll, dthlr, thul, thur, thll, thlr], current_input[0])\n",
    "cm = constants_mapping\n",
    "pycode = f\"\"\"\n",
    "# generated by `closed-kinematic-chain-hopper.ipynb`\n",
    "def current_control(L_x: float, L_y: float,\n",
    "                    th_ul: float, th_ll: float,\n",
    "                    th_lr: float, th_ur: float,\n",
    "                    dth_ll: float, dth_lr: float,\n",
    "                    Kt: float = 0.08):\n",
    "    \\\"\\\"\\\"\n",
    "    Masses and lengths:\n",
    "    mb = {cm[mb]:.3f}kg, mu = {cm[mu]:.3f}kg, ml = {cm[ml]:.3f}kg\n",
    "    rb = {cm[rb]:.3f} m, ru = {cm[ru]:.3f} m, rl = {cm[rl]:.3f} m, g = {cm[g]:.3f}m/s^2\n",
    "    \n",
    "    Kt is the torque constant. Currently pretty much randomly chosen\n",
    "    \\\"\\\"\\\"\n",
    "    import math\n",
    "    current_input = (\n",
    "        {sp.pycode(current_input[0])},\n",
    "        {sp.pycode(current_input[1])},\n",
    "    )\n",
    "    return current_input\n",
    "\"\"\".replace('\\\\theta_','th_').replace('{', '').replace('}', '').replace('L_x0', 'L_x').replace(r'\\dot', 'd')\n",
    "print(pycode)\n",
    "# print(sp.julia_code(current_input))"
   ]
  },
  {
   "cell_type": "code",
   "execution_count": null,
   "metadata": {},
   "outputs": [],
   "source": [
    "# expr = sp.Eq(G*0, (B + J_L.T @ Mat([Lx[0], Ly]))[:-1])\n",
    "# G - (B + J_L.T @ Mat([Lx[0], Ly]))\n",
    "# expr = Mat((B + J_L.T @ Mat([Lx[0], Ly]) - G)[:-1])\n",
    "# expr\n",
    "# sp.solve(expr, τ)"
   ]
  },
  {
   "cell_type": "code",
   "execution_count": null,
   "metadata": {},
   "outputs": [],
   "source": []
  },
  {
   "cell_type": "markdown",
   "metadata": {},
   "source": [
    "# Impedance control!"
   ]
  },
  {
   "cell_type": "code",
   "execution_count": null,
   "metadata": {},
   "outputs": [],
   "source": [
    "## 1. make virtual model of the leg: r, th\n",
    "\n",
    "th1 = thul\n",
    "th2 = thur\n",
    "rp = ru * sp.cos((th1-th2)/2) + sp.sqrt(rl**2 - ru**2 * sp.sin((th1-th2)/2)**2)\n",
    "#rp = sp.simplify(sp.sqrt(conn_rf[1]**2 + conn_rf[0]**2))\n",
    "#thp = sp.atan2(conn_rf[1], conn_rf[0])\n",
    "thp = (thul + thur)/2\n",
    "rp, thp"
   ]
  },
  {
   "cell_type": "code",
   "execution_count": null,
   "metadata": {},
   "outputs": [],
   "source": [
    "## 2. find mapping from input torque to force on r and theta\n",
    "def double_time_deriv(vector):\n",
    "    return time_derivative(time_derivative(vector))\n",
    "\n",
    "double_time_deriv(vec(rp, thp)).jacobian([ddthul, ddthur]) @ vec(τl, τr)"
   ]
  },
  {
   "cell_type": "code",
   "execution_count": null,
   "metadata": {},
   "outputs": [],
   "source": [
    "EOM[3:5]#ddq[3:5]"
   ]
  },
  {
   "cell_type": "code",
   "execution_count": null,
   "metadata": {},
   "outputs": [],
   "source": []
  }
 ],
 "metadata": {
  "kernelspec": {
   "display_name": "Python 3",
   "language": "python",
   "name": "python3"
  },
  "language_info": {
   "codemirror_mode": {
    "name": "ipython",
    "version": 3
   },
   "file_extension": ".py",
   "mimetype": "text/x-python",
   "name": "python",
   "nbconvert_exporter": "python",
   "pygments_lexer": "ipython3",
   "version": "3.8.5"
  }
 },
 "nbformat": 4,
 "nbformat_minor": 4
}